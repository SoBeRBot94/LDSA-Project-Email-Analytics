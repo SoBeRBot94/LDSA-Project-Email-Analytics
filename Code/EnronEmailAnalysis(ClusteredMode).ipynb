{
 "cells": [
  {
   "cell_type": "markdown",
   "metadata": {},
   "source": [
    "# Enron Email Analysis\n",
    "\n",
    "## Create Spark Context"
   ]
  },
  {
   "cell_type": "code",
   "execution_count": 1,
   "metadata": {},
   "outputs": [],
   "source": [
    "from pyspark.sql import SparkSession\n",
    "\n",
    "spark = SparkSession.builder \\\n",
    "         .master(\"spark://10.128.0.9:7077\") \\\n",
    "         .appName(\"EnronEmailAnalysis\") \\\n",
    "         .config(\"spark.some.config.option\", \"some-value\") \\\n",
    "         .getOrCreate()\n",
    "        \n",
    "sparkctx = spark.sparkContext"
   ]
  },
  {
   "cell_type": "markdown",
   "metadata": {},
   "source": [
    "## Create DataFrame"
   ]
  },
  {
   "cell_type": "code",
   "execution_count": 2,
   "metadata": {},
   "outputs": [],
   "source": [
    "dataFrame = spark.read.csv('enronEmails.csv', header=True, inferSchema=True)"
   ]
  },
  {
   "cell_type": "markdown",
   "metadata": {},
   "source": [
    "## Scaling Test"
   ]
  },
  {
   "cell_type": "code",
   "execution_count": 3,
   "metadata": {},
   "outputs": [],
   "source": [
    "import time\n",
    "\n",
    "def processData(DF, iniGTV, finGTV):\n",
    "    DF.createGlobalTempView(iniGTV)\n",
    "    intermDF = spark.sql(\"SELECT `Message-ID`, concat(split(Date, '-')[0]) as Year, concat(split(Date, '-')[1]) as Month FROM global_temp.\" + iniGTV)\n",
    "    intermDF.createGlobalTempView(finGTV)\n",
    "    finDF2000 = spark.sql(\"SELECT count(`Message-ID`), Month FROM global_temp.\" + finGTV + \" WHERE Year=2000 GROUP BY Month ORDER BY Month\")\n",
    "    finDF2001 = spark.sql(\"SELECT count(`Message-ID`), Month FROM global_temp.\" + finGTV + \" WHERE Year=2001 GROUP BY Month ORDER BY Month\")\n",
    "    finDF2000.show()\n",
    "    finDF2001.show()"
   ]
  },
  {
   "cell_type": "markdown",
   "metadata": {},
   "source": [
    "### Synthetically Increase the Size of the DataFrame"
   ]
  },
  {
   "cell_type": "code",
   "execution_count": 4,
   "metadata": {},
   "outputs": [],
   "source": [
    "# Size of DataFrame1 is 2.3 GB\n",
    "dataFrame1 = dataFrame.union(dataFrame)\n",
    "# Size of DataFrame2 is 4.6 GB\n",
    "dataFrame2 = dataFrame1.union(dataFrame1)\n",
    "# Size of DataFrame3 is 9.1 GB\n",
    "dataFrame3 = dataFrame2.union(dataFrame2)\n",
    "# Size of DataFrame4 is 18.2 GB\n",
    "dataFrame4 = dataFrame3.union(dataFrame3)\n",
    "# Size of DataFrame5 is 22.8 GB\n",
    "dataFrame5 = dataFrame4.union(dataFrame2)"
   ]
  },
  {
   "cell_type": "markdown",
   "metadata": {},
   "source": [
    "### Create 25 GB DataFrame"
   ]
  },
  {
   "cell_type": "code",
   "execution_count": 5,
   "metadata": {},
   "outputs": [],
   "source": [
    "dataFrame25GB = dataFrame5.union(dataFrame1)"
   ]
  },
  {
   "cell_type": "code",
   "execution_count": 6,
   "metadata": {},
   "outputs": [],
   "source": [
    "xVals = ['25 GB', '50 GB', '75 GB', '100 GB']\n",
    "yVals = []"
   ]
  },
  {
   "cell_type": "code",
   "execution_count": 7,
   "metadata": {},
   "outputs": [
    {
     "name": "stdout",
     "output_type": "stream",
     "text": [
      "+-----------------+-----+\n",
      "|count(Message-ID)|Month|\n",
      "+-----------------+-----+\n",
      "|           139986|   01|\n",
      "|           158070|   02|\n",
      "|           192434|   03|\n",
      "|           189706|   04|\n",
      "|           225368|   05|\n",
      "|           301422|   06|\n",
      "|           299640|   07|\n",
      "|           419342|   08|\n",
      "|           438614|   09|\n",
      "|           543752|   10|\n",
      "|           715286|   11|\n",
      "|           690580|   12|\n",
      "+-----------------+-----+\n",
      "\n",
      "+-----------------+-----+\n",
      "|count(Message-ID)|Month|\n",
      "+-----------------+-----+\n",
      "|           528418|   01|\n",
      "|           509366|   02|\n",
      "|           627286|   03|\n",
      "|           786984|   04|\n",
      "|           784542|   05|\n",
      "|           412786|   06|\n",
      "|           224444|   07|\n",
      "|           196218|   08|\n",
      "|           238634|   09|\n",
      "|           817058|   10|\n",
      "|           629354|   11|\n",
      "|           250118|   12|\n",
      "+-----------------+-----+\n",
      "\n",
      "Time taken to process the dataframe of size 25 GB is 191.28386974334717\n"
     ]
    }
   ],
   "source": [
    "startTime = time.time()\n",
    "processData(dataFrame25GB, \"emails25\", \"final25\")\n",
    "endTime = time.time()\n",
    "print(\"Time taken to process the dataframe of size 25 GB is {}\".format(endTime - startTime))\n",
    "timeFor25GB = endTime - startTime\n",
    "yVals.append(int(timeFor25GB))"
   ]
  },
  {
   "cell_type": "markdown",
   "metadata": {},
   "source": [
    "### Create 50 GB DataFrame"
   ]
  },
  {
   "cell_type": "code",
   "execution_count": 8,
   "metadata": {},
   "outputs": [],
   "source": [
    "dataFrame50GB = dataFrame25GB.union(dataFrame25GB)"
   ]
  },
  {
   "cell_type": "code",
   "execution_count": 9,
   "metadata": {},
   "outputs": [
    {
     "name": "stdout",
     "output_type": "stream",
     "text": [
      "+-----------------+-----+\n",
      "|count(Message-ID)|Month|\n",
      "+-----------------+-----+\n",
      "|           279972|   01|\n",
      "|           316140|   02|\n",
      "|           384868|   03|\n",
      "|           379412|   04|\n",
      "|           450736|   05|\n",
      "|           602844|   06|\n",
      "|           599280|   07|\n",
      "|           838684|   08|\n",
      "|           877228|   09|\n",
      "|          1087504|   10|\n",
      "|          1430572|   11|\n",
      "|          1381160|   12|\n",
      "+-----------------+-----+\n",
      "\n",
      "+-----------------+-----+\n",
      "|count(Message-ID)|Month|\n",
      "+-----------------+-----+\n",
      "|          1056836|   01|\n",
      "|          1018732|   02|\n",
      "|          1254572|   03|\n",
      "|          1573968|   04|\n",
      "|          1569084|   05|\n",
      "|           825572|   06|\n",
      "|           448888|   07|\n",
      "|           392436|   08|\n",
      "|           477268|   09|\n",
      "|          1634116|   10|\n",
      "|          1258708|   11|\n",
      "|           500236|   12|\n",
      "+-----------------+-----+\n",
      "\n",
      "Time taken to process the dataframe of size 50 GB is 342.38473653793335\n"
     ]
    }
   ],
   "source": [
    "startTime = time.time()\n",
    "processData(dataFrame50GB, \"emails50\", \"final50\")\n",
    "endTime = time.time()\n",
    "print(\"Time taken to process the dataframe of size 50 GB is {}\".format(endTime - startTime))\n",
    "timeFor50GB = endTime - startTime\n",
    "yVals.append(int(timeFor50GB))"
   ]
  },
  {
   "cell_type": "markdown",
   "metadata": {},
   "source": [
    "### Create 75 GB DataFrame"
   ]
  },
  {
   "cell_type": "code",
   "execution_count": 11,
   "metadata": {},
   "outputs": [],
   "source": [
    "dataFrame75GB = dataFrame50GB.union(dataFrame25GB)"
   ]
  },
  {
   "cell_type": "code",
   "execution_count": 12,
   "metadata": {},
   "outputs": [
    {
     "name": "stdout",
     "output_type": "stream",
     "text": [
      "+-----------------+-----+\n",
      "|count(Message-ID)|Month|\n",
      "+-----------------+-----+\n",
      "|           419958|   01|\n",
      "|           474210|   02|\n",
      "|           577302|   03|\n",
      "|           569118|   04|\n",
      "|           676104|   05|\n",
      "|           904266|   06|\n",
      "|           898920|   07|\n",
      "|          1258026|   08|\n",
      "|          1315842|   09|\n",
      "|          1631256|   10|\n",
      "|          2145858|   11|\n",
      "|          2071740|   12|\n",
      "+-----------------+-----+\n",
      "\n",
      "+-----------------+-----+\n",
      "|count(Message-ID)|Month|\n",
      "+-----------------+-----+\n",
      "|          1585254|   01|\n",
      "|          1528098|   02|\n",
      "|          1881858|   03|\n",
      "|          2360952|   04|\n",
      "|          2353626|   05|\n",
      "|          1238358|   06|\n",
      "|           673332|   07|\n",
      "|           588654|   08|\n",
      "|           715902|   09|\n",
      "|          2451174|   10|\n",
      "|          1888062|   11|\n",
      "|           750354|   12|\n",
      "+-----------------+-----+\n",
      "\n",
      "Time taken to process the dataframe of size 75 GB is 509.68375158309937\n"
     ]
    }
   ],
   "source": [
    "startTime = time.time()\n",
    "processData(dataFrame75GB, \"emails75\", \"final75\")\n",
    "endTime = time.time()\n",
    "print(\"Time taken to process the dataframe of size 75 GB is {}\".format(endTime - startTime))\n",
    "timeFor75GB = endTime - startTime\n",
    "yVals.append(int(timeFor75GB))"
   ]
  },
  {
   "cell_type": "markdown",
   "metadata": {},
   "source": [
    "### Create 100 GB DataFrame"
   ]
  },
  {
   "cell_type": "code",
   "execution_count": 13,
   "metadata": {},
   "outputs": [],
   "source": [
    "dataFrame100GB = dataFrame75GB.union(dataFrame25GB)"
   ]
  },
  {
   "cell_type": "code",
   "execution_count": 14,
   "metadata": {},
   "outputs": [
    {
     "name": "stdout",
     "output_type": "stream",
     "text": [
      "+-----------------+-----+\n",
      "|count(Message-ID)|Month|\n",
      "+-----------------+-----+\n",
      "|           559944|   01|\n",
      "|           632280|   02|\n",
      "|           769736|   03|\n",
      "|           758824|   04|\n",
      "|           901472|   05|\n",
      "|          1205688|   06|\n",
      "|          1198560|   07|\n",
      "|          1677368|   08|\n",
      "|          1754456|   09|\n",
      "|          2175008|   10|\n",
      "|          2861144|   11|\n",
      "|          2762320|   12|\n",
      "+-----------------+-----+\n",
      "\n",
      "+-----------------+-----+\n",
      "|count(Message-ID)|Month|\n",
      "+-----------------+-----+\n",
      "|          2113672|   01|\n",
      "|          2037464|   02|\n",
      "|          2509144|   03|\n",
      "|          3147936|   04|\n",
      "|          3138168|   05|\n",
      "|          1651144|   06|\n",
      "|           897776|   07|\n",
      "|           784872|   08|\n",
      "|           954536|   09|\n",
      "|          3268232|   10|\n",
      "|          2517416|   11|\n",
      "|          1000472|   12|\n",
      "+-----------------+-----+\n",
      "\n",
      "Time taken to process the dataframe of size 100 GB is 680.3001279830933\n"
     ]
    }
   ],
   "source": [
    "startTime = time.time()\n",
    "processData(dataFrame100GB, \"emails100\", \"final100\")\n",
    "endTime = time.time()\n",
    "print(\"Time taken to process the dataframe of size 100 GB is {}\".format(endTime - startTime))\n",
    "timeFor100GB = endTime - startTime\n",
    "yVals.append(int(timeFor100GB))"
   ]
  },
  {
   "cell_type": "markdown",
   "metadata": {},
   "source": [
    "### Check Calculated Time"
   ]
  },
  {
   "cell_type": "code",
   "execution_count": 15,
   "metadata": {},
   "outputs": [
    {
     "name": "stdout",
     "output_type": "stream",
     "text": [
      "[191, 342, 509, 680]\n"
     ]
    }
   ],
   "source": [
    "print(yVals)"
   ]
  },
  {
   "cell_type": "markdown",
   "metadata": {},
   "source": [
    "## Plots"
   ]
  },
  {
   "cell_type": "markdown",
   "metadata": {},
   "source": [
    "### Lazy Imports"
   ]
  },
  {
   "cell_type": "code",
   "execution_count": 16,
   "metadata": {},
   "outputs": [],
   "source": [
    "import pandas\n",
    "import plotly as ply\n",
    "import plotly.graph_objs as plygo"
   ]
  },
  {
   "cell_type": "markdown",
   "metadata": {},
   "source": [
    "### Plot Time Elapsed"
   ]
  },
  {
   "cell_type": "code",
   "execution_count": 19,
   "metadata": {},
   "outputs": [
    {
     "data": {
      "text/plain": [
       "'ProcessingTimeClustered.html'"
      ]
     },
     "execution_count": 19,
     "metadata": {},
     "output_type": "execute_result"
    }
   ],
   "source": [
    "data = [plygo.Bar(x=xVals,y=yVals,text=yVals,textposition = 'outside',opacity=0.8,marker=dict(color='rgb(124,238,102)',))]\n",
    "\n",
    "layout = plygo.Layout(yaxis = dict(range=[100,800]),\n",
    "                   title='Time Taken to process Data of Different Sizes',\n",
    "                   font=dict(color = \"black\", size = 16),)\n",
    "\n",
    "figure = plygo.Figure(data=data,layout=layout)\n",
    "ply.offline.plot(figure, filename='ProcessingTimeClustered.html')"
   ]
  },
  {
   "cell_type": "code",
   "execution_count": 1,
   "metadata": {},
   "outputs": [
    {
     "data": {
      "image/png": "[encoded data removed]",
      "text/plain": [
       "<IPython.core.display.Image object>"
      ]
     },
     "execution_count": 1,
     "metadata": {
      "image/png": {
       "height": 600,
       "width": 800
      }
     },
     "output_type": "execute_result"
    }
   ],
   "source": [
    "from IPython.display import Image\n",
    "\n",
    "Image(filename='./ProcessingTimeClustered.png', width=800, height=600)"
   ]
  }
 ],
 "metadata": {
  "kernelspec": {
   "display_name": "Python 3",
   "language": "python",
   "name": "python3"
  },
  "language_info": {
   "codemirror_mode": {
    "name": "ipython",
    "version": 3
   },
   "file_extension": ".py",
   "mimetype": "text/x-python",
   "name": "python",
   "nbconvert_exporter": "python",
   "pygments_lexer": "ipython3",
   "version": "3.7.5"
  }
 },
 "nbformat": 4,
 "nbformat_minor": 4
}
